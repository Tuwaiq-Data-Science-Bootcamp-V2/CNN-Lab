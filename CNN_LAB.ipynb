{
  "cells": [
    {
      "cell_type": "code",
      "execution_count": 17,
      "id": "a90cf2dc",
      "metadata": {
        "id": "a90cf2dc"
      },
      "outputs": [],
      "source": [
        "from keras.datasets import mnist\n",
        "from keras.models import Sequential\n",
        "from keras.layers import Dense, Dropout, Flatten, Conv2D, MaxPooling2D\n",
        "from keras.utils import np_utils\n",
        "# from matplotlib import pyplot as plt"
      ]
    },
    {
      "cell_type": "code",
      "execution_count": 2,
      "id": "1de55722",
      "metadata": {
        "id": "1de55722",
        "outputId": "6190673e-1201-4886-a4b6-1a588e1479d4",
        "colab": {
          "base_uri": "https://localhost:8080/"
        }
      },
      "outputs": [
        {
          "output_type": "stream",
          "name": "stdout",
          "text": [
            "Downloading data from https://storage.googleapis.com/tensorflow/tf-keras-datasets/mnist.npz\n",
            "11490434/11490434 [==============================] - 0s 0us/step\n"
          ]
        }
      ],
      "source": [
        "# the data, split between train and test sets\n",
        "(x_train, y_train), (x_test, y_test) = mnist.load_data()"
      ]
    },
    {
      "cell_type": "code",
      "execution_count": 3,
      "id": "d6991f5a",
      "metadata": {
        "id": "d6991f5a",
        "outputId": "49ef9000-feed-4797-a00f-4c857381e016",
        "colab": {
          "base_uri": "https://localhost:8080/"
        }
      },
      "outputs": [
        {
          "output_type": "stream",
          "name": "stdout",
          "text": [
            "(60000, 28, 28) (10000, 28, 28)\n"
          ]
        }
      ],
      "source": [
        "print(x_train.shape, x_test.shape)"
      ]
    },
    {
      "cell_type": "code",
      "execution_count": 4,
      "id": "327c9af5",
      "metadata": {
        "id": "327c9af5"
      },
      "outputs": [],
      "source": [
        "x_train = x_train.reshape(60000, 28, 28, 1)\n",
        "x_test = x_test.reshape(10000, 28, 28, 1)\n",
        "input_shape = (28, 28, 1)"
      ]
    },
    {
      "cell_type": "code",
      "execution_count": 5,
      "id": "8d8b122a",
      "metadata": {
        "id": "8d8b122a"
      },
      "outputs": [],
      "source": [
        "# one-hot encoding using keras' numpy-related utilities\n",
        "n_classes = 10\n",
        "y_train = np_utils.to_categorical(y_train, n_classes)\n",
        "y_test = np_utils.to_categorical(y_test, n_classes)"
      ]
    },
    {
      "cell_type": "code",
      "execution_count": 6,
      "id": "360e973d",
      "metadata": {
        "id": "360e973d"
      },
      "outputs": [],
      "source": [
        "x_train = x_train.astype('float32')\n",
        "x_test = x_test.astype('float32')"
      ]
    },
    {
      "cell_type": "code",
      "execution_count": 7,
      "id": "35ff64cc",
      "metadata": {
        "id": "35ff64cc"
      },
      "outputs": [],
      "source": [
        "x_train /= 255\n",
        "x_test /= 255"
      ]
    },
    {
      "cell_type": "code",
      "execution_count": 8,
      "id": "88b9db8b",
      "metadata": {
        "id": "88b9db8b",
        "outputId": "aa6e564f-3829-422e-8f45-670a4b5ce8d2",
        "colab": {
          "base_uri": "https://localhost:8080/"
        }
      },
      "outputs": [
        {
          "output_type": "stream",
          "name": "stdout",
          "text": [
            "x_train shape: (60000, 28, 28, 1)\n",
            "60000 train samples\n",
            "10000 test samples\n"
          ]
        }
      ],
      "source": [
        "print('x_train shape:', x_train.shape)\n",
        "print(x_train.shape[0], 'train samples')\n",
        "print(x_test.shape[0], 'test samples')"
      ]
    },
    {
      "cell_type": "code",
      "execution_count": 9,
      "id": "e9af5162",
      "metadata": {
        "id": "e9af5162"
      },
      "outputs": [],
      "source": [
        "model = Sequential()\n",
        "\n",
        "# Convnet Layer:\n",
        "model.add(Conv2D(32, kernel_size=(5, 5), activation='relu', input_shape=input_shape))\n",
        "model.add(MaxPooling2D(pool_size=(2, 2)))\n",
        "\n",
        "model.add(Conv2D(64, (3, 3), activation='relu'))\n",
        "model.add(MaxPooling2D(pool_size=(2, 2)))\n",
        "\n",
        "# Classification Layer:\n",
        "model.add(Flatten())\n",
        "model.add(Dense(128, activation='relu'))\n",
        "model.add(Dropout(0.3))\n",
        "model.add(Dense(64, activation='relu'))\n",
        "model.add(Dropout(0.5))\n",
        "\n",
        "model.add(Dense(10, activation='softmax'))"
      ]
    },
    {
      "cell_type": "code",
      "execution_count": 10,
      "id": "96daf5bd",
      "metadata": {
        "id": "96daf5bd"
      },
      "outputs": [],
      "source": [
        "model.compile(loss='categorical_crossentropy', metrics=['accuracy'], optimizer='adam')"
      ]
    },
    {
      "cell_type": "code",
      "execution_count": 13,
      "id": "540755d9",
      "metadata": {
        "collapsed": true,
        "id": "540755d9",
        "outputId": "c8704fc0-522c-40be-9fbb-4be6c88ee9a4",
        "colab": {
          "base_uri": "https://localhost:8080/"
        }
      },
      "outputs": [
        {
          "output_type": "stream",
          "name": "stdout",
          "text": [
            "Epoch 1/12\n",
            "120/120 [==============================] - 53s 429ms/step - loss: 0.7759 - accuracy: 0.7519\n",
            "Epoch 2/12\n",
            "120/120 [==============================] - 51s 426ms/step - loss: 0.1863 - accuracy: 0.9494\n",
            "Epoch 3/12\n",
            "120/120 [==============================] - 51s 425ms/step - loss: 0.1225 - accuracy: 0.9668\n",
            "Epoch 4/12\n",
            "120/120 [==============================] - 50s 419ms/step - loss: 0.0992 - accuracy: 0.9742\n",
            "Epoch 5/12\n",
            "120/120 [==============================] - 49s 410ms/step - loss: 0.0823 - accuracy: 0.9792\n",
            "Epoch 6/12\n",
            "120/120 [==============================] - 50s 414ms/step - loss: 0.0725 - accuracy: 0.9812\n",
            "Epoch 7/12\n",
            "120/120 [==============================] - 50s 418ms/step - loss: 0.0635 - accuracy: 0.9833\n",
            "Epoch 8/12\n",
            "120/120 [==============================] - 50s 418ms/step - loss: 0.0568 - accuracy: 0.9854\n",
            "Epoch 9/12\n",
            "120/120 [==============================] - 50s 420ms/step - loss: 0.0511 - accuracy: 0.9862\n",
            "Epoch 10/12\n",
            "120/120 [==============================] - 54s 452ms/step - loss: 0.0440 - accuracy: 0.9889\n",
            "Epoch 11/12\n",
            "120/120 [==============================] - 50s 416ms/step - loss: 0.0421 - accuracy: 0.9892\n",
            "Epoch 12/12\n",
            "120/120 [==============================] - 51s 422ms/step - loss: 0.0400 - accuracy: 0.9899\n"
          ]
        },
        {
          "output_type": "execute_result",
          "data": {
            "text/plain": [
              "<keras.callbacks.History at 0x7f97ec363370>"
            ]
          },
          "metadata": {},
          "execution_count": 13
        }
      ],
      "source": [
        "model.fit(x_train, y_train, epochs=12, batch_size=500)"
      ]
    },
    {
      "cell_type": "code",
      "execution_count": 19,
      "id": "ce2a03f3",
      "metadata": {
        "id": "ce2a03f3",
        "outputId": "3256c673-4e9d-4d94-d1a5-b6b42cbc12c5",
        "colab": {
          "base_uri": "https://localhost:8080/"
        }
      },
      "outputs": [
        {
          "output_type": "stream",
          "name": "stdout",
          "text": [
            "Test loss: 0.02992676943540573\n",
            "Test accuracy: 0.9919000267982483\n"
          ]
        }
      ],
      "source": [
        "score = model.evaluate(x_test, y_test, verbose=0)\n",
        "print('Test loss:', score[0])\n",
        "print('Test accuracy:', score[1])"
      ]
    },
    {
      "cell_type": "code",
      "execution_count": 12,
      "id": "4edf72ea",
      "metadata": {
        "collapsed": true,
        "id": "4edf72ea"
      },
      "outputs": [],
      "source": []
    }
  ],
  "metadata": {
    "kernelspec": {
      "display_name": "Python 3 (ipykernel)",
      "language": "python",
      "name": "python3"
    },
    "language_info": {
      "codemirror_mode": {
        "name": "ipython",
        "version": 3
      },
      "file_extension": ".py",
      "mimetype": "text/x-python",
      "name": "python",
      "nbconvert_exporter": "python",
      "pygments_lexer": "ipython3",
      "version": "3.9.12"
    },
    "colab": {
      "provenance": []
    }
  },
  "nbformat": 4,
  "nbformat_minor": 5
}