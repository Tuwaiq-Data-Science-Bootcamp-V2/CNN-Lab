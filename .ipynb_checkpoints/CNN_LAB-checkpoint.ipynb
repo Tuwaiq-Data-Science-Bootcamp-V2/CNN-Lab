{
 "cells": [
  {
   "cell_type": "code",
   "execution_count": 5,
   "id": "a90cf2dc",
   "metadata": {},
   "outputs": [],
   "source": [
    "from tensorflow.keras.datasets import mnist\n",
    "from tensorflow.keras.models import Sequential\n",
    "from tensorflow.keras.layers import Dense, Dropout, Flatten, Conv2D, MaxPooling2D\n",
    "from keras.utils import np_utils\n"
   ]
  },
  {
   "cell_type": "code",
   "execution_count": 6,
   "id": "1de55722",
   "metadata": {},
   "outputs": [
    {
     "name": "stdout",
     "output_type": "stream",
     "text": [
      "Downloading data from https://storage.googleapis.com/tensorflow/tf-keras-datasets/mnist.npz\n",
      "11490434/11490434 [==============================] - 2s 0us/step\n"
     ]
    }
   ],
   "source": [
    "# the data, split between train and test sets\n",
    "(x_train, y_train), (x_test, y_test) = mnist.load_data()"
   ]
  },
  {
   "cell_type": "code",
   "execution_count": 7,
   "id": "d6991f5a",
   "metadata": {},
   "outputs": [
    {
     "name": "stdout",
     "output_type": "stream",
     "text": [
      "(60000, 28, 28) (10000, 28, 28)\n"
     ]
    }
   ],
   "source": [
    "print(x_train.shape, x_test.shape)"
   ]
  },
  {
   "cell_type": "code",
   "execution_count": 8,
   "id": "327c9af5",
   "metadata": {},
   "outputs": [],
   "source": [
    "x_train = x_train.reshape(60000, 28, 28, 1)\n",
    "x_test = x_test.reshape(10000, 28, 28, 1)\n",
    "input_shape = (28, 28, 1)"
   ]
  },
  {
   "cell_type": "code",
   "execution_count": 9,
   "id": "8d8b122a",
   "metadata": {},
   "outputs": [],
   "source": [
    "# one-hot encoding using keras' numpy-related utilities\n",
    "n_classes = 10\n",
    "y_train = np_utils.to_categorical(y_train, n_classes)\n",
    "y_test = np_utils.to_categorical(y_test, n_classes)"
   ]
  },
  {
   "cell_type": "code",
   "execution_count": 10,
   "id": "360e973d",
   "metadata": {},
   "outputs": [],
   "source": [
    "x_train = x_train.astype('float32')\n",
    "x_test = x_test.astype('float32')"
   ]
  },
  {
   "cell_type": "code",
   "execution_count": 11,
   "id": "35ff64cc",
   "metadata": {},
   "outputs": [],
   "source": [
    "x_train /= 255\n",
    "x_test /= 255"
   ]
  },
  {
   "cell_type": "code",
   "execution_count": 12,
   "id": "88b9db8b",
   "metadata": {},
   "outputs": [
    {
     "name": "stdout",
     "output_type": "stream",
     "text": [
      "x_train shape: (60000, 28, 28, 1)\n",
      "60000 train samples\n",
      "10000 test samples\n"
     ]
    }
   ],
   "source": [
    "print('x_train shape:', x_train.shape)\n",
    "print(x_train.shape[0], 'train samples')\n",
    "print(x_test.shape[0], 'test samples')"
   ]
  },
  {
   "cell_type": "code",
   "execution_count": 13,
   "id": "e9af5162",
   "metadata": {},
   "outputs": [],
   "source": [
    "model = Sequential()\n",
    "\n",
    "# Convnet Layer:\n",
    "model.add(Conv2D(32, kernel_size=(5, 5), activation='relu', input_shape=input_shape))\n",
    "model.add(MaxPooling2D(pool_size=(2, 2)))\n",
    "\n",
    "model.add(Conv2D(64, (3, 3), activation='relu'))\n",
    "model.add(MaxPooling2D(pool_size=(2, 2)))\n",
    "\n",
    "# Classification Layer:\n",
    "model.add(Flatten())\n",
    "model.add(Dense(128, activation='relu'))\n",
    "model.add(Dropout(0.3))\n",
    "model.add(Dense(64, activation='relu'))\n",
    "model.add(Dropout(0.5))\n",
    "\n",
    "model.add(Dense(10, activation='softmax'))"
   ]
  },
  {
   "cell_type": "code",
   "execution_count": 14,
   "id": "96daf5bd",
   "metadata": {},
   "outputs": [],
   "source": [
    "model.compile(loss='categorical_crossentropy', metrics=['accuracy'], optimizer='adam')"
   ]
  },
  {
   "cell_type": "code",
   "execution_count": 15,
   "id": "540755d9",
   "metadata": {},
   "outputs": [],
   "source": [
    "#fit"
   ]
  },
  {
   "cell_type": "code",
   "execution_count": 18,
   "id": "4453eb80",
   "metadata": {},
   "outputs": [
    {
     "name": "stdout",
     "output_type": "stream",
     "text": [
      "Epoch 1/10\n",
      "1875/1875 [==============================] - 39s 20ms/step - loss: 0.2656 - accuracy: 0.9206\n",
      "Epoch 2/10\n",
      "1875/1875 [==============================] - 36s 19ms/step - loss: 0.0888 - accuracy: 0.9773\n",
      "Epoch 3/10\n",
      "1875/1875 [==============================] - 36s 19ms/step - loss: 0.0668 - accuracy: 0.9831\n",
      "Epoch 4/10\n",
      "1875/1875 [==============================] - 36s 19ms/step - loss: 0.0528 - accuracy: 0.9866\n",
      "Epoch 5/10\n",
      "1875/1875 [==============================] - 38s 20ms/step - loss: 0.0450 - accuracy: 0.9880\n",
      "Epoch 6/10\n",
      "1875/1875 [==============================] - 38s 20ms/step - loss: 0.0380 - accuracy: 0.9902\n",
      "Epoch 7/10\n",
      "1875/1875 [==============================] - 37s 20ms/step - loss: 0.0355 - accuracy: 0.9911\n",
      "Epoch 8/10\n",
      "1875/1875 [==============================] - 36s 19ms/step - loss: 0.0300 - accuracy: 0.9920\n",
      "Epoch 9/10\n",
      "1875/1875 [==============================] - 36s 19ms/step - loss: 0.0295 - accuracy: 0.9922\n",
      "Epoch 10/10\n",
      "1875/1875 [==============================] - 37s 20ms/step - loss: 0.0244 - accuracy: 0.9934\n"
     ]
    },
    {
     "data": {
      "text/plain": [
       "<keras.callbacks.History at 0x1a7deaada00>"
      ]
     },
     "execution_count": 18,
     "metadata": {},
     "output_type": "execute_result"
    }
   ],
   "source": [
    "model.fit(x_train,y_train,batch_size=32,epochs=10)"
   ]
  },
  {
   "cell_type": "code",
   "execution_count": 12,
   "id": "ce2a03f3",
   "metadata": {},
   "outputs": [
    {
     "name": "stdout",
     "output_type": "stream",
     "text": [
      "Test loss: 0.026992108672857285\n",
      "Test accuracy: 0.9923999905586243\n"
     ]
    }
   ],
   "source": [
    "score = model.evaluate(x_test, y_test, verbose=0)\n",
    "print('Test loss:', score[0])\n",
    "print('Test accuracy:', score[1])"
   ]
  },
  {
   "cell_type": "code",
   "execution_count": 28,
   "id": "4edf72ea",
   "metadata": {},
   "outputs": [],
   "source": [
    "import cv2\n",
    "import matplotlib.pyplot as plt"
   ]
  },
  {
   "cell_type": "code",
   "execution_count": 56,
   "id": "b0c9bbfe",
   "metadata": {},
   "outputs": [],
   "source": [
    "img=cv2.imread(\"WhatsApp Image 2023-02-20 at 12.26.10 PM.jpeg\")"
   ]
  },
  {
   "cell_type": "code",
   "execution_count": 57,
   "id": "0ae50358",
   "metadata": {},
   "outputs": [
    {
     "data": {
      "text/plain": [
       "<matplotlib.image.AxesImage at 0x1a7fdf224c0>"
      ]
     },
     "execution_count": 57,
     "metadata": {},
     "output_type": "execute_result"
    },
    {
     "data": {
      "image/png": "[encoded data removed]",
      "text/plain": [
       "<Figure size 432x288 with 1 Axes>"
      ]
     },
     "metadata": {
      "needs_background": "light"
     },
     "output_type": "display_data"
    }
   ],
   "source": [
    "plt.imshow(img)"
   ]
  },
  {
   "cell_type": "code",
   "execution_count": 58,
   "id": "3ccda1a9",
   "metadata": {},
   "outputs": [],
   "source": [
    "img=cv2.resize(img,(28,28))"
   ]
  },
  {
   "cell_type": "code",
   "execution_count": 59,
   "id": "ac63e18d",
   "metadata": {},
   "outputs": [
    {
     "data": {
      "text/plain": [
       "<matplotlib.image.AxesImage at 0x1a7800302e0>"
      ]
     },
     "execution_count": 59,
     "metadata": {},
     "output_type": "execute_result"
    },
    {
     "data": {
      "image/png": "[encoded data removed]",
      "text/plain": [
       "<Figure size 432x288 with 1 Axes>"
      ]
     },
     "metadata": {
      "needs_background": "light"
     },
     "output_type": "display_data"
    }
   ],
   "source": [
    "plt.imshow(img)"
   ]
  },
  {
   "cell_type": "code",
   "execution_count": 60,
   "id": "88dddcee",
   "metadata": {},
   "outputs": [
    {
     "data": {
      "text/plain": [
       "(28, 28, 3)"
      ]
     },
     "execution_count": 60,
     "metadata": {},
     "output_type": "execute_result"
    }
   ],
   "source": [
    "img.shape"
   ]
  },
  {
   "cell_type": "code",
   "execution_count": 61,
   "id": "881af323",
   "metadata": {},
   "outputs": [],
   "source": [
    "img=cv2.cvtColor(img, cv2.COLOR_BGR2GRAY)"
   ]
  },
  {
   "cell_type": "code",
   "execution_count": 62,
   "id": "6bd7e386",
   "metadata": {},
   "outputs": [
    {
     "data": {
      "text/plain": [
       "<matplotlib.image.AxesImage at 0x1a780094580>"
      ]
     },
     "execution_count": 62,
     "metadata": {},
     "output_type": "execute_result"
    },
    {
     "data": {
      "image/png": "[encoded data removed]",
      "text/plain": [
       "<Figure size 432x288 with 1 Axes>"
      ]
     },
     "metadata": {
      "needs_background": "light"
     },
     "output_type": "display_data"
    }
   ],
   "source": [
    "plt.imshow(img)"
   ]
  },
  {
   "cell_type": "code",
   "execution_count": 63,
   "id": "cadb7805",
   "metadata": {},
   "outputs": [
    {
     "data": {
      "text/plain": [
       "(28, 28)"
      ]
     },
     "execution_count": 63,
     "metadata": {},
     "output_type": "execute_result"
    }
   ],
   "source": [
    "img.shape"
   ]
  },
  {
   "cell_type": "code",
   "execution_count": 64,
   "id": "47a3a273",
   "metadata": {},
   "outputs": [],
   "source": [
    "img=img/255"
   ]
  },
  {
   "cell_type": "code",
   "execution_count": 65,
   "id": "129ecf4c",
   "metadata": {},
   "outputs": [
    {
     "data": {
      "text/plain": [
       "<matplotlib.image.AxesImage at 0x1a780107070>"
      ]
     },
     "execution_count": 65,
     "metadata": {},
     "output_type": "execute_result"
    },
    {
     "data": {
      "image/png": "[encoded data removed]",
      "text/plain": [
       "<Figure size 432x288 with 1 Axes>"
      ]
     },
     "metadata": {
      "needs_background": "light"
     },
     "output_type": "display_data"
    }
   ],
   "source": [
    "plt.imshow(img)"
   ]
  },
  {
   "cell_type": "code",
   "execution_count": 66,
   "id": "e8a04651",
   "metadata": {},
   "outputs": [
    {
     "data": {
      "text/plain": [
       "array([[0.73333333, 0.73333333, 0.7254902 , 0.72156863, 0.72156863,\n",
       "        0.71372549, 0.70980392, 0.70588235, 0.70588235, 0.69803922,\n",
       "        0.69411765, 0.68627451, 0.67843137, 0.6745098 , 0.67058824,\n",
       "        0.66666667, 0.6627451 , 0.6627451 , 0.65490196, 0.65098039,\n",
       "        0.65098039, 0.64313725, 0.63921569, 0.63137255, 0.62745098,\n",
       "        0.62352941, 0.61568627, 0.60392157],\n",
       "       [0.7372549 , 0.73333333, 0.7254902 , 0.72156863, 0.71764706,\n",
       "        0.71372549, 0.70980392, 0.70588235, 0.69803922, 0.69019608,\n",
       "        0.68627451, 0.67843137, 0.6745098 , 0.66666667, 0.6627451 ,\n",
       "        0.6627451 , 0.65490196, 0.65098039, 0.64705882, 0.63921569,\n",
       "        0.63921569, 0.62745098, 0.62745098, 0.61960784, 0.61960784,\n",
       "        0.61568627, 0.60392157, 0.59215686],\n",
       "       [0.74117647, 0.73333333, 0.73333333, 0.72156863, 0.71372549,\n",
       "        0.70588235, 0.70588235, 0.69411765, 0.68627451, 0.68627451,\n",
       "        0.6745098 , 0.67058824, 0.6627451 , 0.65490196, 0.65098039,\n",
       "        0.64313725, 0.64313725, 0.63529412, 0.63137255, 0.62745098,\n",
       "        0.61960784, 0.61568627, 0.61568627, 0.61176471, 0.60392157,\n",
       "        0.6       , 0.59215686, 0.58039216],\n",
       "       [0.7372549 , 0.73333333, 0.72941176, 0.72156863, 0.70980392,\n",
       "        0.70196078, 0.69803922, 0.69411765, 0.68627451, 0.6745098 ,\n",
       "        0.        , 0.        , 0.        , 0.        , 0.63921569,\n",
       "        0.63921569, 0.63137255, 0.62745098, 0.61960784, 0.61568627,\n",
       "        0.61176471, 0.60392157, 0.60392157, 0.6       , 0.59607843,\n",
       "        0.59215686, 0.58039216, 0.57647059],\n",
       "       [0.73333333, 0.73333333, 0.7254902 , 0.71764706, 0.70980392,\n",
       "        0.69803922, 0.69803922, 0.68627451, 0.        , 0.        ,\n",
       "        0.        , 0.        , 0.        , 0.        , 0.        ,\n",
       "        0.        , 0.61568627, 0.61176471, 0.60392157, 0.60392157,\n",
       "        0.6       , 0.59215686, 0.59215686, 0.58431373, 0.58431373,\n",
       "        0.58039216, 0.57254902, 0.56470588],\n",
       "       [0.7372549 , 0.72156863, 0.72156863, 0.70980392, 0.70588235,\n",
       "        0.69803922, 0.68627451, 0.        , 0.        , 0.        ,\n",
       "        0.        , 0.63529412, 0.63137255, 0.61960784, 0.        ,\n",
       "        0.        , 0.14901961, 0.6       , 0.59607843, 0.59215686,\n",
       "        0.59215686, 0.58823529, 0.58431373, 0.58039216, 0.58039216,\n",
       "        0.56862745, 0.56862745, 0.56078431],\n",
       "       [0.73333333, 0.72156863, 0.71372549, 0.70980392, 0.70196078,\n",
       "        0.69019608, 0.68627451, 0.        , 0.        , 0.65098039,\n",
       "        0.63921569, 0.62745098, 0.62352941, 0.61568627, 0.60784314,\n",
       "        0.        , 0.        , 0.59215686, 0.59215686, 0.58039216,\n",
       "        0.58039216, 0.58039216, 0.57647059, 0.57254902, 0.56862745,\n",
       "        0.56470588, 0.55686275, 0.55294118],\n",
       "       [0.72941176, 0.72156863, 0.71372549, 0.70980392, 0.69803922,\n",
       "        0.68627451, 0.69019608, 0.        , 0.        , 0.63921569,\n",
       "        0.63137255, 0.61960784, 0.61568627, 0.60784314, 0.60392157,\n",
       "        0.        , 0.        , 0.58823529, 0.58039216, 0.58039216,\n",
       "        0.57647059, 0.57647059, 0.56862745, 0.56862745, 0.56078431,\n",
       "        0.55686275, 0.55294118, 0.54901961],\n",
       "       [0.7254902 , 0.72156863, 0.71372549, 0.70588235, 0.69411765,\n",
       "        0.68627451, 0.67058824, 0.64705882, 0.65098039, 0.63921569,\n",
       "        0.63137255, 0.62745098, 0.61176471, 0.60392157, 0.6       ,\n",
       "        0.        , 0.        , 0.58823529, 0.58039216, 0.58039216,\n",
       "        0.57254902, 0.56862745, 0.56862745, 0.56078431, 0.55686275,\n",
       "        0.55686275, 0.55294118, 0.54901961],\n",
       "       [0.72156863, 0.71764706, 0.71372549, 0.70588235, 0.69019608,\n",
       "        0.67843137, 0.66666667, 0.65882353, 0.64705882, 0.63921569,\n",
       "        0.62745098, 0.62352941, 0.60784314, 0.6       , 0.59607843,\n",
       "        0.        , 0.        , 0.58431373, 0.58039216, 0.57647059,\n",
       "        0.56862745, 0.56862745, 0.56470588, 0.55686275, 0.55686275,\n",
       "        0.55294118, 0.54901961, 0.54117647],\n",
       "       [0.7254902 , 0.71764706, 0.71372549, 0.70196078, 0.68627451,\n",
       "        0.6745098 , 0.67058824, 0.65490196, 0.64705882, 0.63921569,\n",
       "        0.62745098, 0.61960784, 0.61568627, 0.60392157, 0.53333333,\n",
       "        0.        , 0.        , 0.58039216, 0.57647059, 0.57254902,\n",
       "        0.56078431, 0.56470588, 0.55686275, 0.55294118, 0.55294118,\n",
       "        0.54509804, 0.54509804, 0.54117647],\n",
       "       [0.72156863, 0.71764706, 0.70588235, 0.70196078, 0.68627451,\n",
       "        0.67843137, 0.67058824, 0.65490196, 0.64705882, 0.63529412,\n",
       "        0.62745098, 0.61960784, 0.60784314, 0.6       , 0.        ,\n",
       "        0.        , 0.58039216, 0.58039216, 0.57254902, 0.56862745,\n",
       "        0.56470588, 0.56078431, 0.55686275, 0.55686275, 0.54901961,\n",
       "        0.54901961, 0.54509804, 0.5372549 ],\n",
       "       [0.72156863, 0.71764706, 0.71372549, 0.70196078, 0.69019608,\n",
       "        0.68235294, 0.6745098 , 0.65882353, 0.64705882, 0.63921569,\n",
       "        0.63137255, 0.61960784, 0.61176471, 0.6       , 0.        ,\n",
       "        0.        , 0.58039216, 0.58039216, 0.57647059, 0.56862745,\n",
       "        0.56862745, 0.56470588, 0.56078431, 0.55686275, 0.55686275,\n",
       "        0.55294118, 0.54509804, 0.54901961],\n",
       "       [0.72156863, 0.71764706, 0.70980392, 0.70196078, 0.69019608,\n",
       "        0.68235294, 0.67058824, 0.6627451 , 0.65098039, 0.64313725,\n",
       "        0.63137255, 0.62352941, 0.61568627, 0.        , 0.        ,\n",
       "        0.61568627, 0.58431373, 0.58039216, 0.58431373, 0.57254902,\n",
       "        0.56862745, 0.56862745, 0.56470588, 0.56078431, 0.55686275,\n",
       "        0.55686275, 0.55294118, 0.54901961],\n",
       "       [0.72156863, 0.71764706, 0.70980392, 0.69803922, 0.69019608,\n",
       "        0.6745098 , 0.66666667, 0.6627451 , 0.65098039, 0.63921569,\n",
       "        0.63529412, 0.62352941, 0.        , 0.        , 0.        ,\n",
       "        0.59215686, 0.58823529, 0.58431373, 0.58431373, 0.57254902,\n",
       "        0.56862745, 0.56862745, 0.56470588, 0.56078431, 0.56078431,\n",
       "        0.55686275, 0.55294118, 0.54901961],\n",
       "       [0.72156863, 0.71764706, 0.70980392, 0.70196078, 0.68627451,\n",
       "        0.67843137, 0.67058824, 0.6627451 , 0.65098039, 0.64313725,\n",
       "        0.63529412, 0.62745098, 0.        , 0.        , 0.59607843,\n",
       "        0.59215686, 0.58823529, 0.58039216, 0.58039216, 0.57254902,\n",
       "        0.56862745, 0.57254902, 0.56862745, 0.56078431, 0.56470588,\n",
       "        0.55686275, 0.55686275, 0.54901961],\n",
       "       [0.72156863, 0.71764706, 0.70980392, 0.69803922, 0.68627451,\n",
       "        0.67843137, 0.67058824, 0.6627451 , 0.64705882, 0.        ,\n",
       "        0.        , 0.        , 0.        , 0.15294118, 0.6       ,\n",
       "        0.59215686, 0.58823529, 0.58039216, 0.        , 0.        ,\n",
       "        0.56862745, 0.56470588, 0.56470588, 0.56470588, 0.56078431,\n",
       "        0.55686275, 0.55294118, 0.54509804],\n",
       "       [0.72156863, 0.71764706, 0.70980392, 0.69803922, 0.68627451,\n",
       "        0.67843137, 0.6745098 , 0.65098039, 0.        , 0.        ,\n",
       "        0.        , 0.        , 0.        , 0.01176471, 0.60392157,\n",
       "        0.59607843, 0.59215686, 0.00392157, 0.        , 0.        ,\n",
       "        0.56862745, 0.56862745, 0.56862745, 0.56862745, 0.56470588,\n",
       "        0.56470588, 0.55686275, 0.55294118],\n",
       "       [0.72156863, 0.71764706, 0.70980392, 0.70196078, 0.69019608,\n",
       "        0.67843137, 0.67058824, 0.        , 0.        , 0.        ,\n",
       "        0.        , 0.00392157, 0.        , 0.        , 0.        ,\n",
       "        0.        , 0.        , 0.        , 0.        , 0.58039216,\n",
       "        0.57647059, 0.57647059, 0.56862745, 0.56862745, 0.55686275,\n",
       "        0.56078431, 0.55686275, 0.55294118],\n",
       "       [0.72156863, 0.72156863, 0.70980392, 0.70196078, 0.69803922,\n",
       "        0.68627451, 0.67058824, 0.        , 0.        , 0.        ,\n",
       "        0.63921569, 0.62745098, 0.62352941, 0.        , 0.        ,\n",
       "        0.        , 0.        , 0.        , 0.58823529, 0.58039216,\n",
       "        0.58039216, 0.57254902, 0.56862745, 0.56862745, 0.56078431,\n",
       "        0.56078431, 0.55686275, 0.54901961],\n",
       "       [0.72156863, 0.70980392, 0.70980392, 0.70588235, 0.69803922,\n",
       "        0.68627451, 0.6745098 , 0.66666667, 0.65490196, 0.65098039,\n",
       "        0.64313725, 0.63137255, 0.62745098, 0.61568627, 0.61568627,\n",
       "        0.61568627, 0.60392157, 0.6       , 0.59215686, 0.58823529,\n",
       "        0.58431373, 0.58039216, 0.57254902, 0.56862745, 0.56470588,\n",
       "        0.56078431, 0.55686275, 0.55686275],\n",
       "       [0.72156863, 0.71372549, 0.70196078, 0.69803922, 0.69411765,\n",
       "        0.68627451, 0.67843137, 0.66666667, 0.65490196, 0.65098039,\n",
       "        0.63921569, 0.63137255, 0.63137255, 0.62352941, 0.61960784,\n",
       "        0.61568627, 0.61176471, 0.60392157, 0.59607843, 0.59607843,\n",
       "        0.58823529, 0.58431373, 0.58039216, 0.57254902, 0.56862745,\n",
       "        0.56862745, 0.56078431, 0.55294118],\n",
       "       [0.72156863, 0.70980392, 0.70588235, 0.70196078, 0.69411765,\n",
       "        0.69019608, 0.68235294, 0.67058824, 0.6627451 , 0.65490196,\n",
       "        0.64313725, 0.63921569, 0.63137255, 0.62745098, 0.62352941,\n",
       "        0.61568627, 0.61568627, 0.61176471, 0.60392157, 0.60392157,\n",
       "        0.59215686, 0.58823529, 0.58431373, 0.58431373, 0.57647059,\n",
       "        0.56862745, 0.56078431, 0.55686275],\n",
       "       [0.7254902 , 0.71372549, 0.70588235, 0.70196078, 0.69803922,\n",
       "        0.69019608, 0.68235294, 0.67058824, 0.6627451 , 0.65490196,\n",
       "        0.65098039, 0.64705882, 0.63921569, 0.62745098, 0.62745098,\n",
       "        0.62745098, 0.61960784, 0.61568627, 0.61176471, 0.60784314,\n",
       "        0.60392157, 0.59607843, 0.59215686, 0.58823529, 0.58039216,\n",
       "        0.57647059, 0.56862745, 0.56078431],\n",
       "       [0.72156863, 0.71764706, 0.71372549, 0.70980392, 0.70588235,\n",
       "        0.69019608, 0.68235294, 0.67843137, 0.6745098 , 0.66666667,\n",
       "        0.65882353, 0.65098039, 0.64313725, 0.63921569, 0.63921569,\n",
       "        0.63137255, 0.62745098, 0.61960784, 0.61568627, 0.61568627,\n",
       "        0.60784314, 0.60392157, 0.6       , 0.59215686, 0.59215686,\n",
       "        0.58039216, 0.57254902, 0.56862745],\n",
       "       [0.72156863, 0.72156863, 0.71764706, 0.70980392, 0.70196078,\n",
       "        0.69803922, 0.68627451, 0.68627451, 0.67843137, 0.6745098 ,\n",
       "        0.6627451 , 0.65882353, 0.65098039, 0.64705882, 0.64705882,\n",
       "        0.63137255, 0.63529412, 0.62745098, 0.62352941, 0.61960784,\n",
       "        0.61568627, 0.60392157, 0.60392157, 0.6       , 0.6       ,\n",
       "        0.58823529, 0.58431373, 0.57647059],\n",
       "       [0.72156863, 0.72156863, 0.72156863, 0.70980392, 0.70588235,\n",
       "        0.69803922, 0.69019608, 0.68627451, 0.68627451, 0.68235294,\n",
       "        0.6745098 , 0.66666667, 0.6627451 , 0.65882353, 0.65490196,\n",
       "        0.65098039, 0.64313725, 0.63921569, 0.63137255, 0.62745098,\n",
       "        0.62745098, 0.62352941, 0.61568627, 0.60392157, 0.6       ,\n",
       "        0.6       , 0.58823529, 0.58039216],\n",
       "       [0.72156863, 0.72156863, 0.72156863, 0.71372549, 0.70588235,\n",
       "        0.69803922, 0.69803922, 0.69411765, 0.69019608, 0.68627451,\n",
       "        0.68627451, 0.6745098 , 0.67058824, 0.66666667, 0.65882353,\n",
       "        0.65098039, 0.65098039, 0.64705882, 0.63921569, 0.63529412,\n",
       "        0.63137255, 0.62745098, 0.62745098, 0.61960784, 0.61568627,\n",
       "        0.60392157, 0.59607843, 0.59215686]])"
      ]
     },
     "execution_count": 66,
     "metadata": {},
     "output_type": "execute_result"
    }
   ],
   "source": [
    "img"
   ]
  },
  {
   "cell_type": "code",
   "execution_count": 67,
   "id": "60a99326",
   "metadata": {},
   "outputs": [],
   "source": [
    "import numpy as np"
   ]
  },
  {
   "cell_type": "code",
   "execution_count": 68,
   "id": "97d494e2",
   "metadata": {},
   "outputs": [],
   "source": [
    "img=np.expand_dims(img,axis=-1)\n",
    "img=np.expand_dims(img,axis=0)"
   ]
  },
  {
   "cell_type": "code",
   "execution_count": 69,
   "id": "68346d6c",
   "metadata": {},
   "outputs": [
    {
     "data": {
      "text/plain": [
       "(1, 28, 28, 1)"
      ]
     },
     "execution_count": 69,
     "metadata": {},
     "output_type": "execute_result"
    }
   ],
   "source": [
    "img.shape"
   ]
  },
  {
   "cell_type": "code",
   "execution_count": 70,
   "id": "7dc597bf",
   "metadata": {},
   "outputs": [
    {
     "name": "stdout",
     "output_type": "stream",
     "text": [
      "1/1 [==============================] - 0s 140ms/step\n"
     ]
    }
   ],
   "source": [
    "p=model.predict(img)"
   ]
  },
  {
   "cell_type": "code",
   "execution_count": 71,
   "id": "bd88dd05",
   "metadata": {},
   "outputs": [
    {
     "data": {
      "text/plain": [
       "4"
      ]
     },
     "execution_count": 71,
     "metadata": {},
     "output_type": "execute_result"
    }
   ],
   "source": [
    "np.argmax(p)"
   ]
  },
  {
   "cell_type": "code",
   "execution_count": null,
   "id": "aead9370",
   "metadata": {},
   "outputs": [],
   "source": []
  }
 ],
 "metadata": {
  "kernelspec": {
   "display_name": "Python 3 (ipykernel)",
   "language": "python",
   "name": "python3"
  },
  "language_info": {
   "codemirror_mode": {
    "name": "ipython",
    "version": 3
   },
   "file_extension": ".py",
   "mimetype": "text/x-python",
   "name": "python",
   "nbconvert_exporter": "python",
   "pygments_lexer": "ipython3",
   "version": "3.8.10"
  }
 },
 "nbformat": 4,
 "nbformat_minor": 5
}
