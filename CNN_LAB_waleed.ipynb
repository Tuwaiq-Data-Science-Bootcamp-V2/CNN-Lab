{
 "cells": [
  {
   "cell_type": "code",
   "execution_count": 7,
   "id": "8e88a090",
   "metadata": {},
   "outputs": [
    {
     "name": "stdout",
     "output_type": "stream",
     "text": [
      "Collecting tensorflow\n",
      "  Using cached tensorflow-2.11.0-cp39-cp39-macosx_10_14_x86_64.whl (244.3 MB)\n",
      "Requirement already satisfied: termcolor>=1.1.0 in /Users/dabi-toya/opt/anaconda3/lib/python3.9/site-packages (from tensorflow) (2.2.0)\n",
      "Requirement already satisfied: wrapt>=1.11.0 in /Users/dabi-toya/opt/anaconda3/lib/python3.9/site-packages (from tensorflow) (1.14.1)\n",
      "Requirement already satisfied: astunparse>=1.6.0 in /Users/dabi-toya/opt/anaconda3/lib/python3.9/site-packages (from tensorflow) (1.6.3)\n",
      "Requirement already satisfied: gast<=0.4.0,>=0.2.1 in /Users/dabi-toya/opt/anaconda3/lib/python3.9/site-packages (from tensorflow) (0.4.0)\n",
      "Requirement already satisfied: six>=1.12.0 in /Users/dabi-toya/.local/lib/python3.9/site-packages (from tensorflow) (1.16.0)\n",
      "Requirement already satisfied: keras<2.12,>=2.11.0 in /Users/dabi-toya/opt/anaconda3/lib/python3.9/site-packages (from tensorflow) (2.11.0)\n",
      "Requirement already satisfied: h5py>=2.9.0 in /Users/dabi-toya/opt/anaconda3/lib/python3.9/site-packages (from tensorflow) (3.7.0)\n",
      "Requirement already satisfied: setuptools in /Users/dabi-toya/opt/anaconda3/lib/python3.9/site-packages (from tensorflow) (63.4.1)\n",
      "Requirement already satisfied: flatbuffers>=2.0 in /Users/dabi-toya/opt/anaconda3/lib/python3.9/site-packages (from tensorflow) (23.1.21)\n",
      "Requirement already satisfied: tensorboard<2.12,>=2.11 in /Users/dabi-toya/opt/anaconda3/lib/python3.9/site-packages (from tensorflow) (2.11.2)\n",
      "Requirement already satisfied: grpcio<2.0,>=1.24.3 in /Users/dabi-toya/opt/anaconda3/lib/python3.9/site-packages (from tensorflow) (1.51.1)\n",
      "Requirement already satisfied: typing-extensions>=3.6.6 in /Users/dabi-toya/opt/anaconda3/lib/python3.9/site-packages (from tensorflow) (4.3.0)\n",
      "Requirement already satisfied: tensorflow-io-gcs-filesystem>=0.23.1 in /Users/dabi-toya/opt/anaconda3/lib/python3.9/site-packages (from tensorflow) (0.30.0)\n",
      "Requirement already satisfied: opt-einsum>=2.3.2 in /Users/dabi-toya/opt/anaconda3/lib/python3.9/site-packages (from tensorflow) (3.3.0)\n",
      "Requirement already satisfied: libclang>=13.0.0 in /Users/dabi-toya/opt/anaconda3/lib/python3.9/site-packages (from tensorflow) (15.0.6.1)\n",
      "Requirement already satisfied: absl-py>=1.0.0 in /Users/dabi-toya/opt/anaconda3/lib/python3.9/site-packages (from tensorflow) (1.4.0)\n",
      "Requirement already satisfied: protobuf<3.20,>=3.9.2 in /Users/dabi-toya/opt/anaconda3/lib/python3.9/site-packages (from tensorflow) (3.19.6)\n",
      "Requirement already satisfied: google-pasta>=0.1.1 in /Users/dabi-toya/opt/anaconda3/lib/python3.9/site-packages (from tensorflow) (0.2.0)\n",
      "Requirement already satisfied: tensorflow-estimator<2.12,>=2.11.0 in /Users/dabi-toya/opt/anaconda3/lib/python3.9/site-packages (from tensorflow) (2.11.0)\n",
      "Requirement already satisfied: numpy>=1.20 in /Users/dabi-toya/opt/anaconda3/lib/python3.9/site-packages (from tensorflow) (1.21.5)\n",
      "Requirement already satisfied: packaging in /Users/dabi-toya/.local/lib/python3.9/site-packages (from tensorflow) (23.0)\n",
      "Requirement already satisfied: wheel<1.0,>=0.23.0 in /Users/dabi-toya/opt/anaconda3/lib/python3.9/site-packages (from astunparse>=1.6.0->tensorflow) (0.37.1)\n",
      "Requirement already satisfied: tensorboard-data-server<0.7.0,>=0.6.0 in /Users/dabi-toya/opt/anaconda3/lib/python3.9/site-packages (from tensorboard<2.12,>=2.11->tensorflow) (0.6.1)\n",
      "Requirement already satisfied: tensorboard-plugin-wit>=1.6.0 in /Users/dabi-toya/opt/anaconda3/lib/python3.9/site-packages (from tensorboard<2.12,>=2.11->tensorflow) (1.8.1)\n",
      "Requirement already satisfied: google-auth-oauthlib<0.5,>=0.4.1 in /Users/dabi-toya/opt/anaconda3/lib/python3.9/site-packages (from tensorboard<2.12,>=2.11->tensorflow) (0.4.6)\n",
      "Requirement already satisfied: requests<3,>=2.21.0 in /Users/dabi-toya/opt/anaconda3/lib/python3.9/site-packages (from tensorboard<2.12,>=2.11->tensorflow) (2.28.1)\n",
      "Requirement already satisfied: google-auth<3,>=1.6.3 in /Users/dabi-toya/opt/anaconda3/lib/python3.9/site-packages (from tensorboard<2.12,>=2.11->tensorflow) (2.16.1)\n",
      "Requirement already satisfied: markdown>=2.6.8 in /Users/dabi-toya/opt/anaconda3/lib/python3.9/site-packages (from tensorboard<2.12,>=2.11->tensorflow) (3.3.4)\n",
      "Requirement already satisfied: werkzeug>=1.0.1 in /Users/dabi-toya/opt/anaconda3/lib/python3.9/site-packages (from tensorboard<2.12,>=2.11->tensorflow) (2.0.3)\n",
      "Requirement already satisfied: rsa<5,>=3.1.4 in /Users/dabi-toya/opt/anaconda3/lib/python3.9/site-packages (from google-auth<3,>=1.6.3->tensorboard<2.12,>=2.11->tensorflow) (4.9)\n",
      "Requirement already satisfied: cachetools<6.0,>=2.0.0 in /Users/dabi-toya/opt/anaconda3/lib/python3.9/site-packages (from google-auth<3,>=1.6.3->tensorboard<2.12,>=2.11->tensorflow) (5.3.0)\n",
      "Requirement already satisfied: pyasn1-modules>=0.2.1 in /Users/dabi-toya/opt/anaconda3/lib/python3.9/site-packages (from google-auth<3,>=1.6.3->tensorboard<2.12,>=2.11->tensorflow) (0.2.8)\n",
      "Requirement already satisfied: requests-oauthlib>=0.7.0 in /Users/dabi-toya/opt/anaconda3/lib/python3.9/site-packages (from google-auth-oauthlib<0.5,>=0.4.1->tensorboard<2.12,>=2.11->tensorflow) (1.3.1)\n",
      "Requirement already satisfied: urllib3<1.27,>=1.21.1 in /Users/dabi-toya/opt/anaconda3/lib/python3.9/site-packages (from requests<3,>=2.21.0->tensorboard<2.12,>=2.11->tensorflow) (1.26.11)\n",
      "Requirement already satisfied: idna<4,>=2.5 in /Users/dabi-toya/opt/anaconda3/lib/python3.9/site-packages (from requests<3,>=2.21.0->tensorboard<2.12,>=2.11->tensorflow) (3.3)\n",
      "Requirement already satisfied: certifi>=2017.4.17 in /Users/dabi-toya/opt/anaconda3/lib/python3.9/site-packages (from requests<3,>=2.21.0->tensorboard<2.12,>=2.11->tensorflow) (2022.9.24)\n",
      "Requirement already satisfied: charset-normalizer<3,>=2 in /Users/dabi-toya/opt/anaconda3/lib/python3.9/site-packages (from requests<3,>=2.21.0->tensorboard<2.12,>=2.11->tensorflow) (2.0.4)\n",
      "Requirement already satisfied: pyasn1<0.5.0,>=0.4.6 in /Users/dabi-toya/opt/anaconda3/lib/python3.9/site-packages (from pyasn1-modules>=0.2.1->google-auth<3,>=1.6.3->tensorboard<2.12,>=2.11->tensorflow) (0.4.8)\n",
      "Requirement already satisfied: oauthlib>=3.0.0 in /Users/dabi-toya/opt/anaconda3/lib/python3.9/site-packages (from requests-oauthlib>=0.7.0->google-auth-oauthlib<0.5,>=0.4.1->tensorboard<2.12,>=2.11->tensorflow) (3.2.2)\n",
      "Installing collected packages: tensorflow\n",
      "Successfully installed tensorflow-2.11.0\n",
      "Note: you may need to restart the kernel to use updated packages.\n"
     ]
    }
   ],
   "source": [
    "pip install tensorflow"
   ]
  },
  {
   "cell_type": "code",
   "execution_count": 4,
   "id": "4ec0327d",
   "metadata": {},
   "outputs": [
    {
     "name": "stdout",
     "output_type": "stream",
     "text": [
      "Requirement already satisfied: keras in /Users/dabi-toya/opt/anaconda3/lib/python3.9/site-packages (2.11.0)\n",
      "Note: you may need to restart the kernel to use updated packages.\n"
     ]
    }
   ],
   "source": [
    "pip install keras"
   ]
  },
  {
   "cell_type": "code",
   "execution_count": 8,
   "id": "a90cf2dc",
   "metadata": {},
   "outputs": [
    {
     "name": "stderr",
     "output_type": "stream",
     "text": [
      "2023-02-20 22:49:10.595359: I tensorflow/core/platform/cpu_feature_guard.cc:193] This TensorFlow binary is optimized with oneAPI Deep Neural Network Library (oneDNN) to use the following CPU instructions in performance-critical operations:  AVX2 FMA\n",
      "To enable them in other operations, rebuild TensorFlow with the appropriate compiler flags.\n"
     ]
    }
   ],
   "source": [
    "from keras.datasets import mnist\n",
    "from keras.models import Sequential\n",
    "from keras.layers import Dense, Dropout, Flatten, Conv2D, MaxPooling2D\n",
    "from keras.utils import np_utils\n"
   ]
  },
  {
   "cell_type": "code",
   "execution_count": 9,
   "id": "1de55722",
   "metadata": {},
   "outputs": [
    {
     "name": "stdout",
     "output_type": "stream",
     "text": [
      "Downloading data from https://storage.googleapis.com/tensorflow/tf-keras-datasets/mnist.npz\n",
      "11490434/11490434 [==============================] - 1s 0us/step\n"
     ]
    }
   ],
   "source": [
    "# the data, split between train and test sets\n",
    "(x_train, y_train), (x_test, y_test) = mnist.load_data()"
   ]
  },
  {
   "cell_type": "code",
   "execution_count": 10,
   "id": "d6991f5a",
   "metadata": {},
   "outputs": [
    {
     "name": "stdout",
     "output_type": "stream",
     "text": [
      "(60000, 28, 28) (10000, 28, 28)\n"
     ]
    }
   ],
   "source": [
    "print(x_train.shape, x_test.shape)"
   ]
  },
  {
   "cell_type": "code",
   "execution_count": 11,
   "id": "327c9af5",
   "metadata": {},
   "outputs": [],
   "source": [
    "x_train = x_train.reshape(60000, 28, 28, 1)\n",
    "x_test = x_test.reshape(10000, 28, 28, 1)\n",
    "input_shape = (28, 28, 1)"
   ]
  },
  {
   "cell_type": "code",
   "execution_count": 12,
   "id": "8d8b122a",
   "metadata": {},
   "outputs": [],
   "source": [
    "# one-hot encoding using keras' numpy-related utilities\n",
    "n_classes = 10\n",
    "y_train = np_utils.to_categorical(y_train, n_classes)\n",
    "y_test = np_utils.to_categorical(y_test, n_classes)"
   ]
  },
  {
   "cell_type": "code",
   "execution_count": 13,
   "id": "360e973d",
   "metadata": {},
   "outputs": [],
   "source": [
    "x_train = x_train.astype('float32')\n",
    "x_test = x_test.astype('float32')"
   ]
  },
  {
   "cell_type": "code",
   "execution_count": 14,
   "id": "35ff64cc",
   "metadata": {},
   "outputs": [],
   "source": [
    "x_train /= 255\n",
    "x_test /= 255"
   ]
  },
  {
   "cell_type": "code",
   "execution_count": 15,
   "id": "88b9db8b",
   "metadata": {},
   "outputs": [
    {
     "name": "stdout",
     "output_type": "stream",
     "text": [
      "x_train shape: (60000, 28, 28, 1)\n",
      "60000 train samples\n",
      "10000 test samples\n"
     ]
    }
   ],
   "source": [
    "print('x_train shape:', x_train.shape)\n",
    "print(x_train.shape[0], 'train samples')\n",
    "print(x_test.shape[0], 'test samples')"
   ]
  },
  {
   "cell_type": "code",
   "execution_count": 16,
   "id": "e9af5162",
   "metadata": {},
   "outputs": [
    {
     "name": "stderr",
     "output_type": "stream",
     "text": [
      "2023-02-20 22:49:43.522633: I tensorflow/core/platform/cpu_feature_guard.cc:193] This TensorFlow binary is optimized with oneAPI Deep Neural Network Library (oneDNN) to use the following CPU instructions in performance-critical operations:  AVX2 FMA\n",
      "To enable them in other operations, rebuild TensorFlow with the appropriate compiler flags.\n"
     ]
    }
   ],
   "source": [
    "model = Sequential()\n",
    "\n",
    "# Convnet Layer:\n",
    "model.add(Conv2D(32, kernel_size=(5, 5), activation='relu', input_shape=input_shape))\n",
    "model.add(MaxPooling2D(pool_size=(2, 2)))\n",
    "\n",
    "model.add(Conv2D(64, (3, 3), activation='relu'))\n",
    "model.add(MaxPooling2D(pool_size=(2, 2)))\n",
    "\n",
    "# Classification Layer:\n",
    "model.add(Flatten())\n",
    "model.add(Dense(128, activation='relu'))\n",
    "model.add(Dropout(0.3))\n",
    "model.add(Dense(64, activation='relu'))\n",
    "model.add(Dropout(0.5))\n",
    "\n",
    "model.add(Dense(10, activation='softmax'))"
   ]
  },
  {
   "cell_type": "code",
   "execution_count": 17,
   "id": "96daf5bd",
   "metadata": {},
   "outputs": [],
   "source": [
    "model.compile(loss='categorical_crossentropy', metrics=['accuracy'], optimizer='adam')"
   ]
  },
  {
   "cell_type": "code",
   "execution_count": 18,
   "id": "11b3238e",
   "metadata": {},
   "outputs": [
    {
     "name": "stdout",
     "output_type": "stream",
     "text": [
      "Epoch 1/10\n",
      "1875/1875 [==============================] - 33s 17ms/step - loss: 0.2655 - accuracy: 0.9210\n",
      "Epoch 2/10\n",
      "1875/1875 [==============================] - 34s 18ms/step - loss: 0.0862 - accuracy: 0.9783\n",
      "Epoch 3/10\n",
      "1875/1875 [==============================] - 35s 19ms/step - loss: 0.0677 - accuracy: 0.9836\n",
      "Epoch 4/10\n",
      "1875/1875 [==============================] - 34s 18ms/step - loss: 0.0530 - accuracy: 0.9866\n",
      "Epoch 5/10\n",
      "1875/1875 [==============================] - 35s 19ms/step - loss: 0.0444 - accuracy: 0.9887\n",
      "Epoch 6/10\n",
      "1875/1875 [==============================] - 36s 19ms/step - loss: 0.0392 - accuracy: 0.9901\n",
      "Epoch 7/10\n",
      "1875/1875 [==============================] - 100s 53ms/step - loss: 0.0339 - accuracy: 0.9912\n",
      "Epoch 8/10\n",
      "1875/1875 [==============================] - 35s 18ms/step - loss: 0.0300 - accuracy: 0.9919\n",
      "Epoch 9/10\n",
      "1875/1875 [==============================] - 34s 18ms/step - loss: 0.0287 - accuracy: 0.9924\n",
      "Epoch 10/10\n",
      "1875/1875 [==============================] - 36s 19ms/step - loss: 0.0240 - accuracy: 0.9936\n"
     ]
    },
    {
     "data": {
      "text/plain": [
       "<keras.callbacks.History at 0x7fa71e61b700>"
      ]
     },
     "execution_count": 18,
     "metadata": {},
     "output_type": "execute_result"
    }
   ],
   "source": [
    "model.fit(x_train,y_train,epochs=10)"
   ]
  },
  {
   "cell_type": "code",
   "execution_count": 11,
   "id": "540755d9",
   "metadata": {
    "scrolled": true
   },
   "outputs": [
    {
     "name": "stdout",
     "output_type": "stream",
     "text": [
      "Epoch 1/10\n",
      "469/469 [==============================] - 24s 49ms/step - loss: 0.4060 - accuracy: 0.8715 - val_loss: 0.0603 - val_accuracy: 0.9811\n",
      "Epoch 2/10\n",
      "469/469 [==============================] - 22s 47ms/step - loss: 0.1155 - accuracy: 0.9693 - val_loss: 0.0428 - val_accuracy: 0.9870\n",
      "Epoch 3/10\n",
      "469/469 [==============================] - 22s 47ms/step - loss: 0.0821 - accuracy: 0.9785 - val_loss: 0.0387 - val_accuracy: 0.9892\n",
      "Epoch 4/10\n",
      "469/469 [==============================] - 22s 48ms/step - loss: 0.0645 - accuracy: 0.9830 - val_loss: 0.0303 - val_accuracy: 0.9913\n",
      "Epoch 5/10\n",
      "469/469 [==============================] - 21s 46ms/step - loss: 0.0559 - accuracy: 0.9856 - val_loss: 0.0261 - val_accuracy: 0.9926\n",
      "Epoch 6/10\n",
      "469/469 [==============================] - 22s 47ms/step - loss: 0.0456 - accuracy: 0.9878 - val_loss: 0.0316 - val_accuracy: 0.9911\n",
      "Epoch 7/10\n",
      "469/469 [==============================] - 22s 47ms/step - loss: 0.0433 - accuracy: 0.9894 - val_loss: 0.0310 - val_accuracy: 0.9924\n",
      "Epoch 8/10\n",
      "469/469 [==============================] - 21s 46ms/step - loss: 0.0368 - accuracy: 0.9902 - val_loss: 0.0307 - val_accuracy: 0.9922\n",
      "Epoch 9/10\n",
      "469/469 [==============================] - 22s 46ms/step - loss: 0.0337 - accuracy: 0.9912 - val_loss: 0.0270 - val_accuracy: 0.9923\n",
      "Epoch 10/10\n",
      "469/469 [==============================] - 22s 46ms/step - loss: 0.0265 - accuracy: 0.9928 - val_loss: 0.0270 - val_accuracy: 0.9924\n"
     ]
    },
    {
     "data": {
      "text/plain": [
       "<keras.callbacks.History at 0x1ebc43d8940>"
      ]
     },
     "execution_count": 11,
     "metadata": {},
     "output_type": "execute_result"
    }
   ],
   "source": [
    "#fit\n",
    "\n"
   ]
  },
  {
   "cell_type": "code",
   "execution_count": 19,
   "id": "ce2a03f3",
   "metadata": {},
   "outputs": [
    {
     "name": "stdout",
     "output_type": "stream",
     "text": [
      "Test loss: 0.041533179581165314\n",
      "Test accuracy: 0.991599977016449\n"
     ]
    }
   ],
   "source": [
    "score = model.evaluate(x_test, y_test, verbose=0)\n",
    "print('Test loss:', score[0])\n",
    "print('Test accuracy:', score[1])"
   ]
  },
  {
   "cell_type": "code",
   "execution_count": null,
   "id": "86c9b4c2",
   "metadata": {},
   "outputs": [],
   "source": []
  },
  {
   "cell_type": "code",
   "execution_count": 14,
   "id": "4edf72ea",
   "metadata": {},
   "outputs": [
    {
     "name": "stdout",
     "output_type": "stream",
     "text": [
      "1/1 [==============================] - 0s 135ms/step\n"
     ]
    }
   ],
   "source": []
  }
 ],
 "metadata": {
  "kernelspec": {
   "display_name": "Python 3 (ipykernel)",
   "language": "python",
   "name": "python3"
  },
  "language_info": {
   "codemirror_mode": {
    "name": "ipython",
    "version": 3
   },
   "file_extension": ".py",
   "mimetype": "text/x-python",
   "name": "python",
   "nbconvert_exporter": "python",
   "pygments_lexer": "ipython3",
   "version": "3.9.13"
  }
 },
 "nbformat": 4,
 "nbformat_minor": 5
}
